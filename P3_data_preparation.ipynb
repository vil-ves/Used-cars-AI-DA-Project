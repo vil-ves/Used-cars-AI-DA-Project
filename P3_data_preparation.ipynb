{
 "cells": [
  {
   "cell_type": "code",
   "execution_count": 1,
   "metadata": {},
   "outputs": [],
   "source": [
    "import pandas as pd\n",
    "import ast\n",
    "import matplotlib.pyplot as plt"
   ]
  },
  {
   "cell_type": "markdown",
   "metadata": {},
   "source": [
    "### Datan esikäsittely ja muuttujien valinta"
   ]
  },
  {
   "cell_type": "markdown",
   "metadata": {},
   "source": [
    "#### Alustava tarkastelu"
   ]
  },
  {
   "cell_type": "markdown",
   "metadata": {},
   "source": [
    "Sarakkeet arvioitiin niiden ennustettavan muuttujan kannalta merkittävyyden perusteella. Merkityksettömät sarakkeet, kuten yksilölliset tunnisteet tai sarakkeet, joissa oli runsaasti puuttuvia arvoja, poistettiin."
   ]
  },
  {
   "cell_type": "code",
   "execution_count": 2,
   "metadata": {},
   "outputs": [],
   "source": [
    "initial_columns = [\n",
    "    'vin','body_type', 'city_fuel_economy', 'daysonmarket', 'engine_type', 'fleet', 'frame_damaged', 'franchise_dealer',\n",
    "    'fuel_tank_volume', 'fuel_type', 'has_accidents', 'highway_fuel_economy', 'horsepower', 'isCab', 'is_new', 'listing_color',\n",
    "    'major_options', 'make_name', 'maximum_seating', 'mileage', 'model_name', 'owner_count', 'power', 'price', 'savings_amount',\n",
    "    'seller_rating', 'torque', 'transmission', 'wheel_system', 'year', 'width', 'length'\n",
    "]"
   ]
  },
  {
   "cell_type": "code",
   "execution_count": 3,
   "metadata": {},
   "outputs": [],
   "source": [
    "df = pd.read_csv('../../used_cars_data.csv', nrows=300000, usecols=initial_columns, low_memory=False)"
   ]
  },
  {
   "cell_type": "code",
   "execution_count": 4,
   "metadata": {},
   "outputs": [
    {
     "data": {
      "text/plain": [
       "vin                      0.000000\n",
       "body_type                0.410333\n",
       "city_fuel_economy       16.521333\n",
       "daysonmarket             0.000000\n",
       "engine_type              3.023333\n",
       "fleet                   44.818333\n",
       "frame_damaged           44.818333\n",
       "franchise_dealer         0.000000\n",
       "fuel_tank_volume         4.889667\n",
       "fuel_type                2.470333\n",
       "has_accidents           44.818333\n",
       "highway_fuel_economy    16.521333\n",
       "horsepower               5.242333\n",
       "isCab                   44.818333\n",
       "is_new                   0.000000\n",
       "length                   4.889667\n",
       "listing_color            0.000000\n",
       "major_options            7.566667\n",
       "make_name                0.000000\n",
       "maximum_seating          4.889667\n",
       "mileage                  4.254000\n",
       "model_name               0.000000\n",
       "owner_count             47.656667\n",
       "power                   14.828000\n",
       "price                    0.000000\n",
       "savings_amount           0.000000\n",
       "seller_rating            1.413667\n",
       "torque                  15.924000\n",
       "transmission             1.390000\n",
       "wheel_system             4.506667\n",
       "width                    4.889667\n",
       "year                     0.000000\n",
       "dtype: float64"
      ]
     },
     "execution_count": 4,
     "metadata": {},
     "output_type": "execute_result"
    }
   ],
   "source": [
    "df.isna().sum() / len(df) * 100"
   ]
  },
  {
   "cell_type": "code",
   "execution_count": 5,
   "metadata": {},
   "outputs": [
    {
     "name": "stdout",
     "output_type": "stream",
     "text": [
      "Columns dropped: []\n"
     ]
    }
   ],
   "source": [
    "# laske puuttuvien arvojen prosenttimäärä\n",
    "missing_percentages = (df.isna().sum() / len(df)) * 100\n",
    "\n",
    "# Etsi sarakkeet joissa on yli 50% puuttuvia arvoja\n",
    "columns_to_drop = missing_percentages[missing_percentages >= 50].index\n",
    "\n",
    "# Pudota sarakkeet\n",
    "df_cleaned = df.drop(columns=columns_to_drop)\n",
    "\n",
    "# siivottu df\n",
    "print(f\"Columns dropped: {list(columns_to_drop)}\")"
   ]
  },
  {
   "cell_type": "code",
   "execution_count": 6,
   "metadata": {},
   "outputs": [
    {
     "data": {
      "text/html": [
       "<div>\n",
       "<style scoped>\n",
       "    .dataframe tbody tr th:only-of-type {\n",
       "        vertical-align: middle;\n",
       "    }\n",
       "\n",
       "    .dataframe tbody tr th {\n",
       "        vertical-align: top;\n",
       "    }\n",
       "\n",
       "    .dataframe thead th {\n",
       "        text-align: right;\n",
       "    }\n",
       "</style>\n",
       "<table border=\"1\" class=\"dataframe\">\n",
       "  <thead>\n",
       "    <tr style=\"text-align: right;\">\n",
       "      <th></th>\n",
       "      <th>vin</th>\n",
       "      <th>body_type</th>\n",
       "      <th>city_fuel_economy</th>\n",
       "      <th>daysonmarket</th>\n",
       "      <th>engine_type</th>\n",
       "      <th>fleet</th>\n",
       "      <th>frame_damaged</th>\n",
       "      <th>franchise_dealer</th>\n",
       "      <th>fuel_tank_volume</th>\n",
       "      <th>fuel_type</th>\n",
       "      <th>...</th>\n",
       "      <th>owner_count</th>\n",
       "      <th>power</th>\n",
       "      <th>price</th>\n",
       "      <th>savings_amount</th>\n",
       "      <th>seller_rating</th>\n",
       "      <th>torque</th>\n",
       "      <th>transmission</th>\n",
       "      <th>wheel_system</th>\n",
       "      <th>width</th>\n",
       "      <th>year</th>\n",
       "    </tr>\n",
       "  </thead>\n",
       "  <tbody>\n",
       "    <tr>\n",
       "      <th>0</th>\n",
       "      <td>ZACNJABB5KPJ92081</td>\n",
       "      <td>SUV / Crossover</td>\n",
       "      <td>NaN</td>\n",
       "      <td>522</td>\n",
       "      <td>I4</td>\n",
       "      <td>NaN</td>\n",
       "      <td>NaN</td>\n",
       "      <td>True</td>\n",
       "      <td>12.7 gal</td>\n",
       "      <td>Gasoline</td>\n",
       "      <td>...</td>\n",
       "      <td>NaN</td>\n",
       "      <td>177 hp @ 5,750 RPM</td>\n",
       "      <td>23141.0</td>\n",
       "      <td>0</td>\n",
       "      <td>2.8</td>\n",
       "      <td>200 lb-ft @ 1,750 RPM</td>\n",
       "      <td>A</td>\n",
       "      <td>FWD</td>\n",
       "      <td>79.6 in</td>\n",
       "      <td>2019</td>\n",
       "    </tr>\n",
       "    <tr>\n",
       "      <th>1</th>\n",
       "      <td>SALCJ2FX1LH858117</td>\n",
       "      <td>SUV / Crossover</td>\n",
       "      <td>NaN</td>\n",
       "      <td>207</td>\n",
       "      <td>I4</td>\n",
       "      <td>NaN</td>\n",
       "      <td>NaN</td>\n",
       "      <td>True</td>\n",
       "      <td>17.7 gal</td>\n",
       "      <td>Gasoline</td>\n",
       "      <td>...</td>\n",
       "      <td>NaN</td>\n",
       "      <td>246 hp @ 5,500 RPM</td>\n",
       "      <td>46500.0</td>\n",
       "      <td>0</td>\n",
       "      <td>3.0</td>\n",
       "      <td>269 lb-ft @ 1,400 RPM</td>\n",
       "      <td>A</td>\n",
       "      <td>AWD</td>\n",
       "      <td>85.6 in</td>\n",
       "      <td>2020</td>\n",
       "    </tr>\n",
       "    <tr>\n",
       "      <th>2</th>\n",
       "      <td>JF1VA2M67G9829723</td>\n",
       "      <td>Sedan</td>\n",
       "      <td>17.0</td>\n",
       "      <td>1233</td>\n",
       "      <td>H4</td>\n",
       "      <td>False</td>\n",
       "      <td>False</td>\n",
       "      <td>True</td>\n",
       "      <td>15.9 gal</td>\n",
       "      <td>Gasoline</td>\n",
       "      <td>...</td>\n",
       "      <td>3.0</td>\n",
       "      <td>305 hp @ 6,000 RPM</td>\n",
       "      <td>46995.0</td>\n",
       "      <td>0</td>\n",
       "      <td>NaN</td>\n",
       "      <td>290 lb-ft @ 4,000 RPM</td>\n",
       "      <td>M</td>\n",
       "      <td>AWD</td>\n",
       "      <td>78.9 in</td>\n",
       "      <td>2016</td>\n",
       "    </tr>\n",
       "    <tr>\n",
       "      <th>3</th>\n",
       "      <td>SALRR2RV0L2433391</td>\n",
       "      <td>SUV / Crossover</td>\n",
       "      <td>NaN</td>\n",
       "      <td>196</td>\n",
       "      <td>V6</td>\n",
       "      <td>NaN</td>\n",
       "      <td>NaN</td>\n",
       "      <td>True</td>\n",
       "      <td>23.5 gal</td>\n",
       "      <td>Gasoline</td>\n",
       "      <td>...</td>\n",
       "      <td>NaN</td>\n",
       "      <td>340 hp @ 6,500 RPM</td>\n",
       "      <td>67430.0</td>\n",
       "      <td>0</td>\n",
       "      <td>3.0</td>\n",
       "      <td>332 lb-ft @ 3,500 RPM</td>\n",
       "      <td>A</td>\n",
       "      <td>AWD</td>\n",
       "      <td>87.4 in</td>\n",
       "      <td>2020</td>\n",
       "    </tr>\n",
       "    <tr>\n",
       "      <th>4</th>\n",
       "      <td>SALCJ2FXXLH862327</td>\n",
       "      <td>SUV / Crossover</td>\n",
       "      <td>NaN</td>\n",
       "      <td>137</td>\n",
       "      <td>I4</td>\n",
       "      <td>NaN</td>\n",
       "      <td>NaN</td>\n",
       "      <td>True</td>\n",
       "      <td>17.7 gal</td>\n",
       "      <td>Gasoline</td>\n",
       "      <td>...</td>\n",
       "      <td>NaN</td>\n",
       "      <td>246 hp @ 5,500 RPM</td>\n",
       "      <td>48880.0</td>\n",
       "      <td>0</td>\n",
       "      <td>3.0</td>\n",
       "      <td>269 lb-ft @ 1,400 RPM</td>\n",
       "      <td>A</td>\n",
       "      <td>AWD</td>\n",
       "      <td>85.6 in</td>\n",
       "      <td>2020</td>\n",
       "    </tr>\n",
       "  </tbody>\n",
       "</table>\n",
       "<p>5 rows × 32 columns</p>\n",
       "</div>"
      ],
      "text/plain": [
       "                 vin        body_type  city_fuel_economy  daysonmarket  \\\n",
       "0  ZACNJABB5KPJ92081  SUV / Crossover                NaN           522   \n",
       "1  SALCJ2FX1LH858117  SUV / Crossover                NaN           207   \n",
       "2  JF1VA2M67G9829723            Sedan               17.0          1233   \n",
       "3  SALRR2RV0L2433391  SUV / Crossover                NaN           196   \n",
       "4  SALCJ2FXXLH862327  SUV / Crossover                NaN           137   \n",
       "\n",
       "  engine_type  fleet frame_damaged  franchise_dealer fuel_tank_volume  \\\n",
       "0          I4    NaN           NaN              True         12.7 gal   \n",
       "1          I4    NaN           NaN              True         17.7 gal   \n",
       "2          H4  False         False              True         15.9 gal   \n",
       "3          V6    NaN           NaN              True         23.5 gal   \n",
       "4          I4    NaN           NaN              True         17.7 gal   \n",
       "\n",
       "  fuel_type  ... owner_count               power    price savings_amount  \\\n",
       "0  Gasoline  ...         NaN  177 hp @ 5,750 RPM  23141.0              0   \n",
       "1  Gasoline  ...         NaN  246 hp @ 5,500 RPM  46500.0              0   \n",
       "2  Gasoline  ...         3.0  305 hp @ 6,000 RPM  46995.0              0   \n",
       "3  Gasoline  ...         NaN  340 hp @ 6,500 RPM  67430.0              0   \n",
       "4  Gasoline  ...         NaN  246 hp @ 5,500 RPM  48880.0              0   \n",
       "\n",
       "   seller_rating                 torque transmission wheel_system    width  \\\n",
       "0            2.8  200 lb-ft @ 1,750 RPM            A          FWD  79.6 in   \n",
       "1            3.0  269 lb-ft @ 1,400 RPM            A          AWD  85.6 in   \n",
       "2            NaN  290 lb-ft @ 4,000 RPM            M          AWD  78.9 in   \n",
       "3            3.0  332 lb-ft @ 3,500 RPM            A          AWD  87.4 in   \n",
       "4            3.0  269 lb-ft @ 1,400 RPM            A          AWD  85.6 in   \n",
       "\n",
       "   year  \n",
       "0  2019  \n",
       "1  2020  \n",
       "2  2016  \n",
       "3  2020  \n",
       "4  2020  \n",
       "\n",
       "[5 rows x 32 columns]"
      ]
     },
     "execution_count": 6,
     "metadata": {},
     "output_type": "execute_result"
    }
   ],
   "source": [
    "df_cleaned.head()"
   ]
  },
  {
   "cell_type": "markdown",
   "metadata": {},
   "source": [
    "### Erotetaan length, width ja maximum_seating sarakkeista kirjaimet ja muutetaan ne float muotoon"
   ]
  },
  {
   "cell_type": "code",
   "execution_count": 7,
   "metadata": {},
   "outputs": [],
   "source": [
    "columns_to_clean = ['length', 'width']\n",
    "\n",
    "for col in columns_to_clean:\n",
    "    df_cleaned[col] = pd.to_numeric(\n",
    "        df_cleaned[col].astype(str).str.replace(' in', '', regex=False),\n",
    "        errors='coerce'\n",
    "    )\n",
    "\n",
    "for col in columns_to_clean:\n",
    "    df_cleaned[col] = df_cleaned[col].fillna(df_cleaned[col].median())\n",
    "\n",
    "\n",
    "df_cleaned['fuel_tank_volume'] = pd.to_numeric(\n",
    "    df_cleaned['fuel_tank_volume'].astype(str).str.replace(' gal', '', regex=False),\n",
    "    errors='coerce'\n",
    ")"
   ]
  },
  {
   "cell_type": "code",
   "execution_count": 8,
   "metadata": {},
   "outputs": [],
   "source": [
    "df_cleaned['maximum_seating'] = df_cleaned['maximum_seating'].str.extract(r'(\\d+)', expand=False)\n",
    "df_cleaned['maximum_seating'] = pd.to_numeric(df_cleaned['maximum_seating'])\n",
    "df_cleaned['maximum_seating'] = df_cleaned['maximum_seating'].fillna(df_cleaned['maximum_seating'].median())"
   ]
  },
  {
   "cell_type": "code",
   "execution_count": 9,
   "metadata": {},
   "outputs": [
    {
     "name": "stdout",
     "output_type": "stream",
     "text": [
      "<class 'pandas.core.frame.DataFrame'>\n",
      "RangeIndex: 300000 entries, 0 to 299999\n",
      "Data columns (total 32 columns):\n",
      " #   Column                Non-Null Count   Dtype  \n",
      "---  ------                --------------   -----  \n",
      " 0   vin                   300000 non-null  object \n",
      " 1   body_type             298769 non-null  object \n",
      " 2   city_fuel_economy     250436 non-null  float64\n",
      " 3   daysonmarket          300000 non-null  int64  \n",
      " 4   engine_type           290930 non-null  object \n",
      " 5   fleet                 165545 non-null  object \n",
      " 6   frame_damaged         165545 non-null  object \n",
      " 7   franchise_dealer      300000 non-null  bool   \n",
      " 8   fuel_tank_volume      285162 non-null  float64\n",
      " 9   fuel_type             292589 non-null  object \n",
      " 10  has_accidents         165545 non-null  object \n",
      " 11  highway_fuel_economy  250436 non-null  float64\n",
      " 12  horsepower            284273 non-null  float64\n",
      " 13  isCab                 165545 non-null  object \n",
      " 14  is_new                300000 non-null  bool   \n",
      " 15  length                300000 non-null  float64\n",
      " 16  listing_color         300000 non-null  object \n",
      " 17  major_options         277300 non-null  object \n",
      " 18  make_name             300000 non-null  object \n",
      " 19  maximum_seating       300000 non-null  float64\n",
      " 20  mileage               287238 non-null  float64\n",
      " 21  model_name            300000 non-null  object \n",
      " 22  owner_count           157030 non-null  float64\n",
      " 23  power                 255516 non-null  object \n",
      " 24  price                 300000 non-null  float64\n",
      " 25  savings_amount        300000 non-null  int64  \n",
      " 26  seller_rating         295759 non-null  float64\n",
      " 27  torque                252228 non-null  object \n",
      " 28  transmission          295830 non-null  object \n",
      " 29  wheel_system          286480 non-null  object \n",
      " 30  width                 300000 non-null  float64\n",
      " 31  year                  300000 non-null  int64  \n",
      "dtypes: bool(2), float64(11), int64(3), object(16)\n",
      "memory usage: 69.2+ MB\n"
     ]
    }
   ],
   "source": [
    "df_cleaned.info()"
   ]
  },
  {
   "cell_type": "markdown",
   "metadata": {},
   "source": [
    "### Luo 'torque' sarakkeesta kaksi uutta saraketta 'torgue_value' ja 'torque_rpm' ja täyttää ne mediaanilla"
   ]
  },
  {
   "cell_type": "code",
   "execution_count": 10,
   "metadata": {},
   "outputs": [],
   "source": [
    "df_cleaned[['torque_value', 'torque_rpm']] = df_cleaned['torque'].str.extract(r'(\\d+)\\s+lb-ft\\s+@\\s+([\\d,]+)', expand=True)\n",
    "df_cleaned['torque_value'] = pd.to_numeric(df_cleaned['torque_value'])\n",
    "df_cleaned['torque_rpm'] = pd.to_numeric(df_cleaned['torque_rpm'].str.replace(',', '', regex=False))\n",
    "\n",
    "# Täytä Nan arvot mediaanilla\n",
    "df_cleaned['torque_value'] = df_cleaned['torque_value'].fillna(df_cleaned['torque_value'].median())\n",
    "df_cleaned['torque_rpm'] = df_cleaned['torque_rpm'].fillna(df_cleaned['torque_rpm'].median())\n",
    "\n",
    "\n",
    "df_cleaned.drop(columns=['torque'], inplace=True)"
   ]
  },
  {
   "cell_type": "markdown",
   "metadata": {},
   "source": [
    "### Otetaan 'power' sarakkeesta RPM tiedot ja luodaan näistä uusi sarake power_rpm"
   ]
  },
  {
   "cell_type": "code",
   "execution_count": 11,
   "metadata": {},
   "outputs": [],
   "source": [
    "# Ota rpm tiedot power sarakkeesta\n",
    "df_cleaned['power_rpm'] = df_cleaned['power'].str.extract(r'@ ([\\d,]+) RPM', expand=True)\n",
    "\n",
    "# poista pilkut ja muuta numeeriseen muotoon\n",
    "df_cleaned['power_rpm'] = pd.to_numeric(df_cleaned['power_rpm'].str.replace(',', '', regex=False), errors='coerce')\n",
    "\n",
    "# poistetaan alkuperäinen sarake\n",
    "df_cleaned.drop(columns=['power'], inplace=True)\n",
    "\n",
    "df_cleaned['power_rpm'] = df_cleaned['power_rpm'].fillna(df_cleaned['power_rpm'].median())"
   ]
  },
  {
   "cell_type": "code",
   "execution_count": 12,
   "metadata": {},
   "outputs": [
    {
     "name": "stdout",
     "output_type": "stream",
     "text": [
      "<class 'pandas.core.frame.DataFrame'>\n",
      "RangeIndex: 300000 entries, 0 to 299999\n",
      "Data columns (total 33 columns):\n",
      " #   Column                Non-Null Count   Dtype  \n",
      "---  ------                --------------   -----  \n",
      " 0   vin                   300000 non-null  object \n",
      " 1   body_type             298769 non-null  object \n",
      " 2   city_fuel_economy     250436 non-null  float64\n",
      " 3   daysonmarket          300000 non-null  int64  \n",
      " 4   engine_type           290930 non-null  object \n",
      " 5   fleet                 165545 non-null  object \n",
      " 6   frame_damaged         165545 non-null  object \n",
      " 7   franchise_dealer      300000 non-null  bool   \n",
      " 8   fuel_tank_volume      285162 non-null  float64\n",
      " 9   fuel_type             292589 non-null  object \n",
      " 10  has_accidents         165545 non-null  object \n",
      " 11  highway_fuel_economy  250436 non-null  float64\n",
      " 12  horsepower            284273 non-null  float64\n",
      " 13  isCab                 165545 non-null  object \n",
      " 14  is_new                300000 non-null  bool   \n",
      " 15  length                300000 non-null  float64\n",
      " 16  listing_color         300000 non-null  object \n",
      " 17  major_options         277300 non-null  object \n",
      " 18  make_name             300000 non-null  object \n",
      " 19  maximum_seating       300000 non-null  float64\n",
      " 20  mileage               287238 non-null  float64\n",
      " 21  model_name            300000 non-null  object \n",
      " 22  owner_count           157030 non-null  float64\n",
      " 23  price                 300000 non-null  float64\n",
      " 24  savings_amount        300000 non-null  int64  \n",
      " 25  seller_rating         295759 non-null  float64\n",
      " 26  transmission          295830 non-null  object \n",
      " 27  wheel_system          286480 non-null  object \n",
      " 28  width                 300000 non-null  float64\n",
      " 29  year                  300000 non-null  int64  \n",
      " 30  torque_value          300000 non-null  float64\n",
      " 31  torque_rpm            300000 non-null  float64\n",
      " 32  power_rpm             300000 non-null  float64\n",
      "dtypes: bool(2), float64(14), int64(3), object(14)\n",
      "memory usage: 71.5+ MB\n"
     ]
    }
   ],
   "source": [
    "df_cleaned.info()"
   ]
  },
  {
   "cell_type": "markdown",
   "metadata": {},
   "source": [
    "### Lasketaan loppuihin int ja float arvoja sijaiseviin sarakkaiseen mediaani"
   ]
  },
  {
   "cell_type": "code",
   "execution_count": 13,
   "metadata": {},
   "outputs": [],
   "source": [
    "df_cleaned['city_fuel_economy'] = df_cleaned['city_fuel_economy'].fillna(df_cleaned['city_fuel_economy'].median())\n",
    "df_cleaned['fuel_tank_volume'] = df_cleaned['fuel_tank_volume'].fillna(df_cleaned['fuel_tank_volume'].median())\n",
    "df_cleaned['highway_fuel_economy'] = df_cleaned['highway_fuel_economy'].fillna(df_cleaned['highway_fuel_economy'].median())\n",
    "df_cleaned['horsepower'] = df_cleaned['horsepower'].fillna(df_cleaned['horsepower'].median())\n",
    "df_cleaned['mileage'] = df_cleaned['mileage'].fillna(df_cleaned['mileage'].median())\n",
    "df_cleaned['owner_count'] = df_cleaned['owner_count'].fillna(df_cleaned['owner_count'].median())\n",
    "df_cleaned['seller_rating'] = df_cleaned['seller_rating'].fillna(df_cleaned['seller_rating'].median())"
   ]
  },
  {
   "cell_type": "code",
   "execution_count": 14,
   "metadata": {},
   "outputs": [
    {
     "name": "stdout",
     "output_type": "stream",
     "text": [
      "<class 'pandas.core.frame.DataFrame'>\n",
      "RangeIndex: 300000 entries, 0 to 299999\n",
      "Data columns (total 33 columns):\n",
      " #   Column                Non-Null Count   Dtype  \n",
      "---  ------                --------------   -----  \n",
      " 0   vin                   300000 non-null  object \n",
      " 1   body_type             298769 non-null  object \n",
      " 2   city_fuel_economy     300000 non-null  float64\n",
      " 3   daysonmarket          300000 non-null  int64  \n",
      " 4   engine_type           290930 non-null  object \n",
      " 5   fleet                 165545 non-null  object \n",
      " 6   frame_damaged         165545 non-null  object \n",
      " 7   franchise_dealer      300000 non-null  bool   \n",
      " 8   fuel_tank_volume      300000 non-null  float64\n",
      " 9   fuel_type             292589 non-null  object \n",
      " 10  has_accidents         165545 non-null  object \n",
      " 11  highway_fuel_economy  300000 non-null  float64\n",
      " 12  horsepower            300000 non-null  float64\n",
      " 13  isCab                 165545 non-null  object \n",
      " 14  is_new                300000 non-null  bool   \n",
      " 15  length                300000 non-null  float64\n",
      " 16  listing_color         300000 non-null  object \n",
      " 17  major_options         277300 non-null  object \n",
      " 18  make_name             300000 non-null  object \n",
      " 19  maximum_seating       300000 non-null  float64\n",
      " 20  mileage               300000 non-null  float64\n",
      " 21  model_name            300000 non-null  object \n",
      " 22  owner_count           300000 non-null  float64\n",
      " 23  price                 300000 non-null  float64\n",
      " 24  savings_amount        300000 non-null  int64  \n",
      " 25  seller_rating         300000 non-null  float64\n",
      " 26  transmission          295830 non-null  object \n",
      " 27  wheel_system          286480 non-null  object \n",
      " 28  width                 300000 non-null  float64\n",
      " 29  year                  300000 non-null  int64  \n",
      " 30  torque_value          300000 non-null  float64\n",
      " 31  torque_rpm            300000 non-null  float64\n",
      " 32  power_rpm             300000 non-null  float64\n",
      "dtypes: bool(2), float64(14), int64(3), object(14)\n",
      "memory usage: 71.5+ MB\n"
     ]
    }
   ],
   "source": [
    "df_cleaned.info()"
   ]
  },
  {
   "cell_type": "markdown",
   "metadata": {},
   "source": [
    "### True/False-sarakkeiden muuntaminen\n",
    "\n",
    "Jotta pystymme mallintamisessa hyödyntämään boolean tyylisiä sarakkeita, on ne muutettava alkuperäisestä muodostaan numeerisiksi arvoiksi."
   ]
  },
  {
   "cell_type": "code",
   "execution_count": 15,
   "metadata": {},
   "outputs": [
    {
     "name": "stdout",
     "output_type": "stream",
     "text": [
      "\n",
      "-----Tietotyyppien yhteenveto:\n",
      "float64    14\n",
      "object     10\n",
      "int64       9\n",
      "Name: count, dtype: int64\n",
      "vin                      object\n",
      "body_type                object\n",
      "city_fuel_economy       float64\n",
      "daysonmarket              int64\n",
      "engine_type              object\n",
      "fleet                     int64\n",
      "frame_damaged             int64\n",
      "franchise_dealer          int64\n",
      "fuel_tank_volume        float64\n",
      "fuel_type                object\n",
      "has_accidents             int64\n",
      "highway_fuel_economy    float64\n",
      "horsepower              float64\n",
      "isCab                     int64\n",
      "is_new                    int64\n",
      "length                  float64\n",
      "listing_color            object\n",
      "major_options            object\n",
      "make_name                object\n",
      "maximum_seating         float64\n",
      "mileage                 float64\n",
      "model_name               object\n",
      "owner_count             float64\n",
      "price                   float64\n",
      "savings_amount            int64\n",
      "seller_rating           float64\n",
      "transmission             object\n",
      "wheel_system             object\n",
      "width                   float64\n",
      "year                      int64\n",
      "torque_value            float64\n",
      "torque_rpm              float64\n",
      "power_rpm               float64\n",
      "\n",
      "-----Data:\n",
      "\n",
      "                      vin        body_type  city_fuel_economy  daysonmarket  \\\n",
      "0       ZACNJABB5KPJ92081  SUV / Crossover               21.0           522   \n",
      "1       SALCJ2FX1LH858117  SUV / Crossover               21.0           207   \n",
      "2       JF1VA2M67G9829723            Sedan               17.0          1233   \n",
      "3       SALRR2RV0L2433391  SUV / Crossover               21.0           196   \n",
      "4       SALCJ2FXXLH862327  SUV / Crossover               21.0           137   \n",
      "...                   ...              ...                ...           ...   \n",
      "299995  1G1ZD5ST7JF232859            Sedan               27.0             8   \n",
      "299996  1C6HJTAG9ML510016     Pickup Truck               21.0             5   \n",
      "299997  1N4AL4FV1LC174299            Sedan               25.0           172   \n",
      "299998  JM3KFBCL8H0144679  SUV / Crossover               23.0            32   \n",
      "299999  3GNAXUEV6LL321065  SUV / Crossover               21.0            19   \n",
      "\n",
      "       engine_type  fleet  frame_damaged  franchise_dealer  fuel_tank_volume  \\\n",
      "0               I4     -1             -1                 1              12.7   \n",
      "1               I4     -1             -1                 1              17.7   \n",
      "2               H4      0              0                 1              15.9   \n",
      "3               V6     -1             -1                 1              23.5   \n",
      "4               I4     -1             -1                 1              17.7   \n",
      "...            ...    ...            ...               ...               ...   \n",
      "299995          I4      0              0                 1              15.8   \n",
      "299996         NaN     -1             -1                 1              17.4   \n",
      "299997          I4     -1             -1                 1              16.2   \n",
      "299998          I4      0              0                 1              15.3   \n",
      "299999          I4     -1             -1                 1              15.6   \n",
      "\n",
      "       fuel_type  ...    price  savings_amount  seller_rating  transmission  \\\n",
      "0       Gasoline  ...  23141.0               0       2.800000             A   \n",
      "1       Gasoline  ...  46500.0               0       3.000000             A   \n",
      "2       Gasoline  ...  46995.0               0       4.305556             M   \n",
      "3       Gasoline  ...  67430.0               0       3.000000             A   \n",
      "4       Gasoline  ...  48880.0               0       3.000000             A   \n",
      "...          ...  ...      ...             ...            ...           ...   \n",
      "299995  Gasoline  ...  20988.0             997       4.136364             A   \n",
      "299996       NaN  ...  44575.0               0       4.692308             A   \n",
      "299997  Gasoline  ...  35775.0               0       4.000000           CVT   \n",
      "299998  Gasoline  ...  23000.0             852       4.000000             A   \n",
      "299999  Gasoline  ...  26999.0               0       3.500000             A   \n",
      "\n",
      "        wheel_system  width  year torque_value torque_rpm  power_rpm  \n",
      "0                FWD   79.6  2019        200.0     1750.0     5750.0  \n",
      "1                AWD   85.6  2020        269.0     1400.0     5500.0  \n",
      "2                AWD   78.9  2016        290.0     4000.0     6000.0  \n",
      "3                AWD   87.4  2020        332.0     3500.0     6500.0  \n",
      "4                AWD   85.6  2020        269.0     1400.0     5500.0  \n",
      "...              ...    ...   ...          ...        ...        ...  \n",
      "299995           FWD   73.0  2018        184.0     2500.0     5700.0  \n",
      "299996           NaN   78.2  2021        258.0     4000.0     5800.0  \n",
      "299997           FWD   72.9  2020        273.0     1600.0     5600.0  \n",
      "299998           AWD   72.5  2017        185.0     4000.0     6000.0  \n",
      "299999           4WD   72.6  2020        203.0     2000.0     5600.0  \n",
      "\n",
      "[300000 rows x 33 columns]\n"
     ]
    }
   ],
   "source": [
    "# Muuttaa True False ja NaN arvot numeerisiksi\n",
    "replacements = {True: '1', False: '0'}\n",
    "\n",
    "# Kohdennetaan toimenpide haluttuun sarakkeeseen ja muutetaan tietotyyppi sopivaksi\n",
    "df_cleaned['fleet'] = df_cleaned['fleet'].map(replacements)\n",
    "df_cleaned['fleet'] = df_cleaned['fleet'].fillna(-1).astype('int64')\n",
    "\n",
    "df_cleaned['frame_damaged'] = df_cleaned['frame_damaged'].map(replacements)\n",
    "df_cleaned['frame_damaged'] = df_cleaned['frame_damaged'].fillna(-1).astype('int64')\n",
    "\n",
    "df_cleaned['franchise_dealer'] = df_cleaned['franchise_dealer'].map(replacements)\n",
    "df_cleaned['franchise_dealer'] = df_cleaned['franchise_dealer'].fillna(-1).astype('int64')\n",
    "\n",
    "df_cleaned['has_accidents'] = df_cleaned['has_accidents'].map(replacements)\n",
    "df_cleaned['has_accidents'] = df_cleaned['has_accidents'].fillna(-1).astype('int64')\n",
    "\n",
    "df_cleaned['isCab'] = df_cleaned['isCab'].map(replacements)\n",
    "df_cleaned['isCab'] = df_cleaned['isCab'].fillna(-1).astype('int64')\n",
    "\n",
    "df_cleaned['is_new'] = df_cleaned['is_new'].map(replacements)\n",
    "df_cleaned['is_new'] = df_cleaned['is_new'].fillna(-1).astype('int64')\n",
    "\n",
    "\n",
    "print(\"\\n-----Tietotyyppien yhteenveto:\")\n",
    "print(df_cleaned.dtypes.value_counts())\n",
    "print(df_cleaned.dtypes.to_string())\n",
    "print(\"\\n-----Data:\\n\")\n",
    "print(df_cleaned)"
   ]
  },
  {
   "cell_type": "markdown",
   "metadata": {},
   "source": [
    "Nyt nähdään yhteenvedoista, kuinka tietotyypit halutuissa sarakkeissa ollaan muutettu objekteista ja booleanista 'int64'-tietotyypiksi.\n",
    "\n",
    "### Selite uusille arvoille:\n",
    "\n",
    "- **1:** Vastaa totuusarvoa 'True', jolloin väittämä pitää paikkansa. Esimerkiksi sarakkeessa 'is_new', arvo '1' tarkoittaa, että auto **on uusi**.\n",
    "\n",
    "- **0:** Vastaa totuusarvoa 'False, jolloin väittämä ei pidä paikkansa. Esimerkiksi sarakkeessa 'is_new', arvo '0' tarkoittaa, että auto **ei ole uusi**.\n",
    "\n",
    "- **-1:** Ei vastaa kumpaakaan yllämainittua totuusarvoa, vaan se on tyhjäarvo. Esimerkiksi sarakkeessa 'is_new', arvo '-1' tarkoittaa, että **ei tiedetä onko auto uusi vai vanha**."
   ]
  },
  {
   "cell_type": "markdown",
   "metadata": {},
   "source": [
    "## Major options sarakkeen purku\n",
    "\n",
    "Seuraavaksi avataan \"major_options\" sarake. Sarakkeessa on lueteltu myytävän auton lisävarusteita. Osassa autoissa lisävarustelista oli erittäin pitkä (57kpl), niin päätimme ottaa mukaan vain selkeästi yleisimmät lisävarusteet. Alla olevassa koodiblockissa \"major_options\" -solun sisältö dekoodataan listamuotoon ja lasketaan kunkin listan alkion osumien määrä testidatasetissä."
   ]
  },
  {
   "cell_type": "code",
   "execution_count": 16,
   "metadata": {},
   "outputs": [],
   "source": [
    "df_cleaned['major_options'] = df_cleaned['major_options'].apply(lambda x: ast.literal_eval(x) if isinstance(x, str) else x)\n",
    "\n",
    "all_options = [item for sublist in df_cleaned['major_options'].dropna() for item in sublist]\n",
    "\n",
    "counts = {}\n",
    "for option in all_options:\n",
    "    if option in counts:\n",
    "        counts[option] += 1\n",
    "    else:\n",
    "        counts[option] = 1\n",
    "\n",
    "top_20_counts = dict(sorted(counts.items(), key=lambda item: item[1], reverse=True)[:20])"
   ]
  },
  {
   "cell_type": "markdown",
   "metadata": {},
   "source": [
    "20 yleisintä \"major_options\" -sarakkeen listojen alkiota on tallennettu nyt muuttujaan \"top_20_counts\". Seuraavaksi piirretään simppeli pylväsdiagrammikuva, josta on helpompi arvioida, montako yleisintä \"major_options\":ia on mielekästä ottaa."
   ]
  },
  {
   "cell_type": "code",
   "execution_count": 17,
   "metadata": {},
   "outputs": [
    {
     "data": {
      "image/png": "[encoded data removed]",
      "text/plain": [
       "<Figure size 1000x600 with 1 Axes>"
      ]
     },
     "metadata": {},
     "output_type": "display_data"
    }
   ],
   "source": [
    "plt.figure(figsize=(10, 6))\n",
    "plt.bar(top_20_counts.keys(), top_20_counts.values(), color='skyblue')\n",
    "\n",
    "plt.xlabel('Options', fontsize=14)\n",
    "plt.ylabel('Count', fontsize=14)\n",
    "plt.title('Top 20 Most Frequent Occurring Options', fontsize=16)\n",
    "plt.xticks(rotation=45, ha='right')\n",
    "\n",
    "plt.tight_layout()\n",
    "plt.show()"
   ]
  },
  {
   "cell_type": "markdown",
   "metadata": {},
   "source": [
    "Valitsimme 13 ensimmäistä \"major_optionss\":ia, sillä ne olivat selkeästi yleisimpiä ja ns. universaalimpia, kuin erilaiset \"packaget\". Tehtävän aikana tutkimme yllä olevaa listaa huomattavasti kauemmas ja lähes jokainen lisävaruste tästä eteenpäin on vain \"package\".\n",
    "\n",
    "Alla olevassa koodiblockissa tallennamme major_options_listiin valitut lisävarusteet. Luomme kullekkin lisävarusteelle oman sarakkeen, jonka täytämme 1 tai 0 arvolla, riippuen, onko kunkin auton \"major_options\" sarakkeessa ilmoitettu ko. lisävaruste. Lopuksi poistamme turhaksi jääneen \"major_options\" sarakkeen."
   ]
  },
  {
   "cell_type": "code",
   "execution_count": 18,
   "metadata": {},
   "outputs": [],
   "source": [
    "major_options_list = [\n",
    "    'Backup Camera', 'Alloy Wheels', 'Bluetooth', 'Heated Seats', 'Sunroof/Moonroof',\n",
    "    'Navigation System', 'Remote Start', 'Leather Seats', 'CarPlay', 'Blind Spot Monitoring',\n",
    "    'Android Auto', 'Parking Sensors', 'Adaptive Cruise Control'\n",
    "]\n",
    "\n",
    "for option in major_options_list:\n",
    "    df_cleaned[option] = df_cleaned['major_options'].apply(lambda x: 1 if isinstance(x, list) and option in x else 0)\n",
    "\n",
    "df_cleaned = df_cleaned.drop(columns=['major_options'])"
   ]
  },
  {
   "cell_type": "markdown",
   "metadata": {},
   "source": [
    "## Major options korrelaatio\n",
    "Mielenkiinnosta halusimme lisätä vielä valittujen lisälaitteiden korrelaation hintaan, sillä olimme uteliatia, onko jollain lisävarusteella selkeää korrelaatiota auton hintaan. Yllätykseksi \"Navigation system\", eli navigointijärjestelmällä oli voimakkain korrelaatiohintaan."
   ]
  },
  {
   "cell_type": "code",
   "execution_count": 19,
   "metadata": {},
   "outputs": [
    {
     "data": {
      "image/png": "[encoded data removed]",
      "text/plain": [
       "<Figure size 1000x600 with 1 Axes>"
      ]
     },
     "metadata": {},
     "output_type": "display_data"
    }
   ],
   "source": [
    "correlations = df_cleaned[major_options_list].corrwith(df_cleaned['price'])\n",
    "\n",
    "\n",
    "correlations.sort_values(ascending=False).plot(kind='bar', color='skyblue', figsize=(10, 6))\n",
    "\n",
    "plt.title('Correlation of Major Options with Price', fontsize=16)\n",
    "plt.xlabel('Major Options', fontsize=12)\n",
    "plt.ylabel('Correlation with Price', fontsize=12)\n",
    "plt.xticks(rotation=90)\n",
    "plt.show()"
   ]
  },
  {
   "cell_type": "markdown",
   "metadata": {},
   "source": [
    "## Polttoainekulutuksen muuntaminen\n",
    "Päätimme muuttaa autojen ilmoitetun polttoainekulutuksen amerikkalaisesta mil/l eurooppalaiseen muotoon l/100km. Loimme funktion, jonka ajoimme kullekkin polttoainekulutussarakkeelle"
   ]
  },
  {
   "cell_type": "code",
   "execution_count": 20,
   "metadata": {},
   "outputs": [],
   "source": [
    "def fuel_unit_conversion(km_per_l, decimals=2):\n",
    "    if pd.isna(km_per_l):\n",
    "        return km_per_l\n",
    "    return round(100 / km_per_l, decimals)\n",
    "\n",
    "df_cleaned['city_fuel_economy'] = df_cleaned['city_fuel_economy'].apply(fuel_unit_conversion)\n",
    "#df_cleaned['combine_fuel_economy'] = df_cleaned['combine_fuel_economy'].apply(fuel_unit_conversion)\n",
    "df_cleaned['highway_fuel_economy'] = df_cleaned['highway_fuel_economy'].apply(fuel_unit_conversion)"
   ]
  },
  {
   "cell_type": "markdown",
   "metadata": {},
   "source": [
    "## Kategoristen sarakkeiden arvojen muuntaminen numeeriseen muotoon\n",
    "Tulostetaan aluksi sarakkeiden tyypit ja sarakkeet, jotka eivät ole numeerisessa muodossa."
   ]
  },
  {
   "cell_type": "code",
   "execution_count": 21,
   "metadata": {},
   "outputs": [
    {
     "name": "stdout",
     "output_type": "stream",
     "text": [
      "int64      22\n",
      "float64    14\n",
      "object      9\n",
      "Name: count, dtype: int64\n"
     ]
    }
   ],
   "source": [
    "# Kaikkien sarakkeiden tyypit\n",
    "print(df_cleaned.dtypes.value_counts())"
   ]
  },
  {
   "cell_type": "code",
   "execution_count": 22,
   "metadata": {},
   "outputs": [
    {
     "data": {
      "text/plain": [
       "vin              300000\n",
       "body_type             9\n",
       "engine_type          32\n",
       "fuel_type             7\n",
       "listing_color        15\n",
       "make_name            69\n",
       "model_name         1070\n",
       "transmission          4\n",
       "wheel_system          5\n",
       "dtype: int64"
      ]
     },
     "execution_count": 22,
     "metadata": {},
     "output_type": "execute_result"
    }
   ],
   "source": [
    "# Object sarakkeiden uniikkien arvojen määrä\n",
    "df_cleaned.select_dtypes(include='object').nunique()"
   ]
  },
  {
   "cell_type": "markdown",
   "metadata": {},
   "source": [
    "Valitaan sarakkeet, jotka halutaan muuttaa kategoriseen muotoon."
   ]
  },
  {
   "cell_type": "code",
   "execution_count": 23,
   "metadata": {},
   "outputs": [],
   "source": [
    "columns_to_encode = ['body_type', 'engine_type', 'fuel_type', 'listing_color', 'make_name', 'model_name', 'transmission', 'wheel_system']"
   ]
  },
  {
   "cell_type": "markdown",
   "metadata": {},
   "source": [
    "Luodaan kategorisista sarakkeista uudet sarakkeet, joissa on enkoodatut arvot. Alkuperäiset sarakkeet jätetään dataframeen varmuuden vuoksi. "
   ]
  },
  {
   "cell_type": "code",
   "execution_count": 24,
   "metadata": {},
   "outputs": [],
   "source": [
    "# 'df_cleaned[f'{col}_encoded']' luo uuden sarakkeen ja '.cat.codes' asettaa uniikin arvon jokaiselle kategorialle\n",
    "for col in columns_to_encode:\n",
    "    df_cleaned[f'{col}_encoded'] = df_cleaned[col].astype('category').cat.codes"
   ]
  },
  {
   "cell_type": "markdown",
   "metadata": {},
   "source": [
    "Alle on tulostettu uudet ja alkuperäiset sarakkeet vierekkäin."
   ]
  },
  {
   "cell_type": "code",
   "execution_count": 25,
   "metadata": {},
   "outputs": [
    {
     "data": {
      "text/html": [
       "<div>\n",
       "<style scoped>\n",
       "    .dataframe tbody tr th:only-of-type {\n",
       "        vertical-align: middle;\n",
       "    }\n",
       "\n",
       "    .dataframe tbody tr th {\n",
       "        vertical-align: top;\n",
       "    }\n",
       "\n",
       "    .dataframe thead th {\n",
       "        text-align: right;\n",
       "    }\n",
       "</style>\n",
       "<table border=\"1\" class=\"dataframe\">\n",
       "  <thead>\n",
       "    <tr style=\"text-align: right;\">\n",
       "      <th></th>\n",
       "      <th>body_type_encoded</th>\n",
       "      <th>body_type</th>\n",
       "      <th>engine_type_encoded</th>\n",
       "      <th>engine_type</th>\n",
       "      <th>fuel_type_encoded</th>\n",
       "      <th>fuel_type</th>\n",
       "      <th>listing_color_encoded</th>\n",
       "      <th>listing_color</th>\n",
       "      <th>make_name_encoded</th>\n",
       "      <th>make_name</th>\n",
       "      <th>model_name_encoded</th>\n",
       "      <th>model_name</th>\n",
       "      <th>transmission_encoded</th>\n",
       "      <th>transmission</th>\n",
       "      <th>wheel_system_encoded</th>\n",
       "      <th>wheel_system</th>\n",
       "    </tr>\n",
       "  </thead>\n",
       "  <tbody>\n",
       "    <tr>\n",
       "      <th>0</th>\n",
       "      <td>5</td>\n",
       "      <td>SUV / Crossover</td>\n",
       "      <td>5</td>\n",
       "      <td>I4</td>\n",
       "      <td>5</td>\n",
       "      <td>Gasoline</td>\n",
       "      <td>14</td>\n",
       "      <td>YELLOW</td>\n",
       "      <td>29</td>\n",
       "      <td>Jeep</td>\n",
       "      <td>793</td>\n",
       "      <td>Renegade</td>\n",
       "      <td>0</td>\n",
       "      <td>A</td>\n",
       "      <td>3</td>\n",
       "      <td>FWD</td>\n",
       "    </tr>\n",
       "    <tr>\n",
       "      <th>1</th>\n",
       "      <td>5</td>\n",
       "      <td>SUV / Crossover</td>\n",
       "      <td>5</td>\n",
       "      <td>I4</td>\n",
       "      <td>5</td>\n",
       "      <td>Gasoline</td>\n",
       "      <td>0</td>\n",
       "      <td>BLACK</td>\n",
       "      <td>34</td>\n",
       "      <td>Land Rover</td>\n",
       "      <td>306</td>\n",
       "      <td>Discovery Sport</td>\n",
       "      <td>0</td>\n",
       "      <td>A</td>\n",
       "      <td>2</td>\n",
       "      <td>AWD</td>\n",
       "    </tr>\n",
       "    <tr>\n",
       "      <th>2</th>\n",
       "      <td>6</td>\n",
       "      <td>Sedan</td>\n",
       "      <td>0</td>\n",
       "      <td>H4</td>\n",
       "      <td>5</td>\n",
       "      <td>Gasoline</td>\n",
       "      <td>12</td>\n",
       "      <td>UNKNOWN</td>\n",
       "      <td>61</td>\n",
       "      <td>Subaru</td>\n",
       "      <td>1009</td>\n",
       "      <td>WRX STI</td>\n",
       "      <td>3</td>\n",
       "      <td>M</td>\n",
       "      <td>2</td>\n",
       "      <td>AWD</td>\n",
       "    </tr>\n",
       "    <tr>\n",
       "      <th>3</th>\n",
       "      <td>5</td>\n",
       "      <td>SUV / Crossover</td>\n",
       "      <td>18</td>\n",
       "      <td>V6</td>\n",
       "      <td>5</td>\n",
       "      <td>Gasoline</td>\n",
       "      <td>4</td>\n",
       "      <td>GRAY</td>\n",
       "      <td>34</td>\n",
       "      <td>Land Rover</td>\n",
       "      <td>304</td>\n",
       "      <td>Discovery</td>\n",
       "      <td>0</td>\n",
       "      <td>A</td>\n",
       "      <td>2</td>\n",
       "      <td>AWD</td>\n",
       "    </tr>\n",
       "    <tr>\n",
       "      <th>4</th>\n",
       "      <td>5</td>\n",
       "      <td>SUV / Crossover</td>\n",
       "      <td>5</td>\n",
       "      <td>I4</td>\n",
       "      <td>5</td>\n",
       "      <td>Gasoline</td>\n",
       "      <td>0</td>\n",
       "      <td>BLACK</td>\n",
       "      <td>34</td>\n",
       "      <td>Land Rover</td>\n",
       "      <td>306</td>\n",
       "      <td>Discovery Sport</td>\n",
       "      <td>0</td>\n",
       "      <td>A</td>\n",
       "      <td>2</td>\n",
       "      <td>AWD</td>\n",
       "    </tr>\n",
       "    <tr>\n",
       "      <th>5</th>\n",
       "      <td>5</td>\n",
       "      <td>SUV / Crossover</td>\n",
       "      <td>5</td>\n",
       "      <td>I4</td>\n",
       "      <td>5</td>\n",
       "      <td>Gasoline</td>\n",
       "      <td>12</td>\n",
       "      <td>UNKNOWN</td>\n",
       "      <td>34</td>\n",
       "      <td>Land Rover</td>\n",
       "      <td>783</td>\n",
       "      <td>Range Rover Velar</td>\n",
       "      <td>0</td>\n",
       "      <td>A</td>\n",
       "      <td>2</td>\n",
       "      <td>AWD</td>\n",
       "    </tr>\n",
       "    <tr>\n",
       "      <th>6</th>\n",
       "      <td>6</td>\n",
       "      <td>Sedan</td>\n",
       "      <td>5</td>\n",
       "      <td>I4</td>\n",
       "      <td>5</td>\n",
       "      <td>Gasoline</td>\n",
       "      <td>10</td>\n",
       "      <td>SILVER</td>\n",
       "      <td>42</td>\n",
       "      <td>Mazda</td>\n",
       "      <td>582</td>\n",
       "      <td>MAZDA3</td>\n",
       "      <td>0</td>\n",
       "      <td>A</td>\n",
       "      <td>3</td>\n",
       "      <td>FWD</td>\n",
       "    </tr>\n",
       "    <tr>\n",
       "      <th>7</th>\n",
       "      <td>5</td>\n",
       "      <td>SUV / Crossover</td>\n",
       "      <td>5</td>\n",
       "      <td>I4</td>\n",
       "      <td>5</td>\n",
       "      <td>Gasoline</td>\n",
       "      <td>13</td>\n",
       "      <td>WHITE</td>\n",
       "      <td>34</td>\n",
       "      <td>Land Rover</td>\n",
       "      <td>783</td>\n",
       "      <td>Range Rover Velar</td>\n",
       "      <td>0</td>\n",
       "      <td>A</td>\n",
       "      <td>2</td>\n",
       "      <td>AWD</td>\n",
       "    </tr>\n",
       "    <tr>\n",
       "      <th>8</th>\n",
       "      <td>5</td>\n",
       "      <td>SUV / Crossover</td>\n",
       "      <td>5</td>\n",
       "      <td>I4</td>\n",
       "      <td>5</td>\n",
       "      <td>Gasoline</td>\n",
       "      <td>4</td>\n",
       "      <td>GRAY</td>\n",
       "      <td>34</td>\n",
       "      <td>Land Rover</td>\n",
       "      <td>306</td>\n",
       "      <td>Discovery Sport</td>\n",
       "      <td>0</td>\n",
       "      <td>A</td>\n",
       "      <td>2</td>\n",
       "      <td>AWD</td>\n",
       "    </tr>\n",
       "    <tr>\n",
       "      <th>9</th>\n",
       "      <td>5</td>\n",
       "      <td>SUV / Crossover</td>\n",
       "      <td>5</td>\n",
       "      <td>I4</td>\n",
       "      <td>5</td>\n",
       "      <td>Gasoline</td>\n",
       "      <td>13</td>\n",
       "      <td>WHITE</td>\n",
       "      <td>34</td>\n",
       "      <td>Land Rover</td>\n",
       "      <td>779</td>\n",
       "      <td>Range Rover Evoque</td>\n",
       "      <td>0</td>\n",
       "      <td>A</td>\n",
       "      <td>2</td>\n",
       "      <td>AWD</td>\n",
       "    </tr>\n",
       "  </tbody>\n",
       "</table>\n",
       "</div>"
      ],
      "text/plain": [
       "   body_type_encoded        body_type  engine_type_encoded engine_type  \\\n",
       "0                  5  SUV / Crossover                    5          I4   \n",
       "1                  5  SUV / Crossover                    5          I4   \n",
       "2                  6            Sedan                    0          H4   \n",
       "3                  5  SUV / Crossover                   18          V6   \n",
       "4                  5  SUV / Crossover                    5          I4   \n",
       "5                  5  SUV / Crossover                    5          I4   \n",
       "6                  6            Sedan                    5          I4   \n",
       "7                  5  SUV / Crossover                    5          I4   \n",
       "8                  5  SUV / Crossover                    5          I4   \n",
       "9                  5  SUV / Crossover                    5          I4   \n",
       "\n",
       "   fuel_type_encoded fuel_type  listing_color_encoded listing_color  \\\n",
       "0                  5  Gasoline                     14        YELLOW   \n",
       "1                  5  Gasoline                      0         BLACK   \n",
       "2                  5  Gasoline                     12       UNKNOWN   \n",
       "3                  5  Gasoline                      4          GRAY   \n",
       "4                  5  Gasoline                      0         BLACK   \n",
       "5                  5  Gasoline                     12       UNKNOWN   \n",
       "6                  5  Gasoline                     10        SILVER   \n",
       "7                  5  Gasoline                     13         WHITE   \n",
       "8                  5  Gasoline                      4          GRAY   \n",
       "9                  5  Gasoline                     13         WHITE   \n",
       "\n",
       "   make_name_encoded   make_name  model_name_encoded          model_name  \\\n",
       "0                 29        Jeep                 793            Renegade   \n",
       "1                 34  Land Rover                 306     Discovery Sport   \n",
       "2                 61      Subaru                1009             WRX STI   \n",
       "3                 34  Land Rover                 304           Discovery   \n",
       "4                 34  Land Rover                 306     Discovery Sport   \n",
       "5                 34  Land Rover                 783   Range Rover Velar   \n",
       "6                 42       Mazda                 582              MAZDA3   \n",
       "7                 34  Land Rover                 783   Range Rover Velar   \n",
       "8                 34  Land Rover                 306     Discovery Sport   \n",
       "9                 34  Land Rover                 779  Range Rover Evoque   \n",
       "\n",
       "   transmission_encoded transmission  wheel_system_encoded wheel_system  \n",
       "0                     0            A                     3          FWD  \n",
       "1                     0            A                     2          AWD  \n",
       "2                     3            M                     2          AWD  \n",
       "3                     0            A                     2          AWD  \n",
       "4                     0            A                     2          AWD  \n",
       "5                     0            A                     2          AWD  \n",
       "6                     0            A                     3          FWD  \n",
       "7                     0            A                     2          AWD  \n",
       "8                     0            A                     2          AWD  \n",
       "9                     0            A                     2          AWD  "
      ]
     },
     "execution_count": 25,
     "metadata": {},
     "output_type": "execute_result"
    }
   ],
   "source": [
    "df_cleaned[\n",
    "    ['body_type_encoded','body_type', 'engine_type_encoded', 'engine_type', 'fuel_type_encoded', 'fuel_type', 'listing_color_encoded', 'listing_color', \n",
    "     'make_name_encoded', 'make_name', 'model_name_encoded', 'model_name', 'transmission_encoded', 'transmission','wheel_system_encoded' ,'wheel_system']\n",
    "     ].head(10)"
   ]
  },
  {
   "cell_type": "code",
   "execution_count": 26,
   "metadata": {},
   "outputs": [
    {
     "name": "stdout",
     "output_type": "stream",
     "text": [
      "{'body_type'}\n",
      "{0: 'Convertible', 1: 'Coupe', 2: 'Hatchback', 3: 'Minivan', 4: 'Pickup Truck', 5: 'SUV / Crossover', 6: 'Sedan', 7: 'Van', 8: 'Wagon'}\n",
      "{'fuel_type'}\n",
      "{0: 'Biodiesel', 1: 'Compressed Natural Gas', 2: 'Diesel', 3: 'Electric', 4: 'Flex Fuel Vehicle', 5: 'Gasoline', 6: 'Hybrid'}\n",
      "{'listing_color'}\n",
      "{0: 'BLACK', 1: 'BLUE', 2: 'BROWN', 3: 'GOLD', 4: 'GRAY', 5: 'GREEN', 6: 'ORANGE', 7: 'PINK', 8: 'PURPLE', 9: 'RED', 10: 'SILVER', 11: 'TEAL', 12: 'UNKNOWN', 13: 'WHITE', 14: 'YELLOW'}\n",
      "{'transmission'}\n",
      "{0: 'A', 1: 'CVT', 2: 'Dual Clutch', 3: 'M'}\n",
      "{'wheel_system'}\n",
      "{0: '4WD', 1: '4X2', 2: 'AWD', 3: 'FWD', 4: 'RWD'}\n"
     ]
    }
   ],
   "source": [
    "# Funktio, jonka avulla voi tarkistaa kategoristen sarakkeiden alkuperäiset ja uudet enkoodatut arvot\n",
    "# Funktio muuttaa sarakkeen kategoriseen muotoon ja luo dictionaryn, jossa enkoodattu arvo toimii avaimena alkuperäiselle arvolle\n",
    "\n",
    "def encode_and_map(column_name):\n",
    "    categories = df_cleaned[column_name].astype('category').cat.categories  # Muuttaa sarakkeen kategoriseen muotoon ja hakee uuden numeerisen arvon\n",
    "    mapping = dict(enumerate(categories))  # Yhdistää numeerisen ja alkuperäisen arvon dictionaryyn \n",
    "    print({column_name})\n",
    "    print(mapping)\n",
    "    return mapping\n",
    "\n",
    "# Erilliset funktion kutsut jokaiselle sarakkeelle siltä varalta, että kaikkea ei haluta tulostaa kerralla\n",
    "\n",
    "body_type_mapping = encode_and_map('body_type')\n",
    "# engine_type_mapping = encode_and_map('engine_type')\n",
    "fuel_type_mapping = encode_and_map('fuel_type')\n",
    "listing_color_mapping = encode_and_map('listing_color')\n",
    "# make_name_mapping = encode_and_map('make_name')\n",
    "# model_name_mapping = encode_and_map('model_name')\n",
    "transmission_mapping = encode_and_map('transmission')\n",
    "wheel_system_mapping = encode_and_map('wheel_system')"
   ]
  },
  {
   "cell_type": "markdown",
   "metadata": {},
   "source": [
    "Yllä olevista listauksista näkee, mikä enkoodattu arvo, eli numero, vastaa mitäkin alkuperäistä arvoa."
   ]
  },
  {
   "cell_type": "markdown",
   "metadata": {},
   "source": [
    "### Tarkistetaan lopuksi vielä muuttujien korrelaatiot kohdemuuttujien kanssa"
   ]
  },
  {
   "cell_type": "code",
   "execution_count": 27,
   "metadata": {},
   "outputs": [
    {
     "name": "stdout",
     "output_type": "stream",
     "text": [
      "Correlations with 'daysonmarket':\n",
      "daysonmarket               1.000000\n",
      "is_new                     0.191603\n",
      "price                      0.097786\n",
      "width                      0.053764\n",
      "Leather Seats              0.052177\n",
      "Navigation System          0.043518\n",
      "torque_value               0.034806\n",
      "Remote Start               0.030614\n",
      "horsepower                 0.023875\n",
      "Adaptive Cruise Control    0.023410\n",
      "wheel_system_encoded       0.022420\n",
      "Backup Camera              0.020601\n",
      "Alloy Wheels               0.018247\n",
      "year                       0.017557\n",
      "highway_fuel_economy       0.014983\n",
      "listing_color_encoded      0.013985\n",
      "fuel_tank_volume           0.012425\n",
      "engine_type_encoded        0.010523\n",
      "city_fuel_economy          0.010010\n",
      "franchise_dealer           0.008777\n",
      "length                     0.003097\n",
      "fuel_type_encoded          0.001093\n",
      "seller_rating             -0.000140\n",
      "Sunroof/Moonroof          -0.001211\n",
      "body_type_encoded         -0.004581\n",
      "owner_count               -0.007855\n",
      "model_name_encoded        -0.011115\n",
      "Bluetooth                 -0.011502\n",
      "transmission_encoded      -0.020289\n",
      "Parking Sensors           -0.026118\n",
      "maximum_seating           -0.030028\n",
      "power_rpm                 -0.033138\n",
      "Android Auto              -0.038758\n",
      "CarPlay                   -0.050280\n",
      "make_name_encoded         -0.051392\n",
      "torque_rpm                -0.053227\n",
      "Blind Spot Monitoring     -0.053729\n",
      "savings_amount            -0.064637\n",
      "mileage                   -0.098367\n",
      "Heated Seats              -0.099315\n",
      "fleet                     -0.151071\n",
      "has_accidents             -0.152254\n",
      "isCab                     -0.158231\n",
      "frame_damaged             -0.174599\n",
      "Name: daysonmarket, dtype: float64\n",
      "\n",
      "Correlations with 'price':\n",
      "price                      1.000000\n",
      "horsepower                 0.523463\n",
      "torque_value               0.429689\n",
      "is_new                     0.374389\n",
      "year                       0.348443\n",
      "width                      0.332663\n",
      "fuel_tank_volume           0.303036\n",
      "franchise_dealer           0.299909\n",
      "length                     0.275509\n",
      "highway_fuel_economy       0.242398\n",
      "engine_type_encoded        0.241181\n",
      "city_fuel_economy          0.229304\n",
      "Navigation System          0.221301\n",
      "CarPlay                    0.142338\n",
      "Sunroof/Moonroof           0.136535\n",
      "Leather Seats              0.121807\n",
      "Android Auto               0.114890\n",
      "Remote Start               0.114328\n",
      "Heated Seats               0.112364\n",
      "Blind Spot Monitoring      0.111736\n",
      "Adaptive Cruise Control    0.108918\n",
      "Parking Sensors            0.107023\n",
      "Backup Camera              0.101008\n",
      "daysonmarket               0.097786\n",
      "maximum_seating            0.081731\n",
      "seller_rating              0.055759\n",
      "model_name_encoded         0.020436\n",
      "listing_color_encoded      0.015297\n",
      "savings_amount            -0.009341\n",
      "make_name_encoded         -0.063405\n",
      "Alloy Wheels              -0.072936\n",
      "Bluetooth                 -0.083608\n",
      "power_rpm                 -0.090965\n",
      "torque_rpm                -0.110950\n",
      "fuel_type_encoded         -0.112973\n",
      "transmission_encoded      -0.117962\n",
      "body_type_encoded         -0.164703\n",
      "wheel_system_encoded      -0.234716\n",
      "owner_count               -0.256603\n",
      "isCab                     -0.343784\n",
      "fleet                     -0.348921\n",
      "frame_damaged             -0.361511\n",
      "has_accidents             -0.365914\n",
      "mileage                   -0.429691\n",
      "Name: price, dtype: float64\n"
     ]
    }
   ],
   "source": [
    "# Valitaan vain numeeriset sarakkeet\n",
    "numerical_cols = df_cleaned.select_dtypes(include=['number'])\n",
    "\n",
    "# Laske korrelaatio numeerisille sarakkeille\n",
    "correlation_matrix = numerical_cols.corr()\n",
    "\n",
    "# Tarkistetaan korrelaatio kohdemuuttujien kanssa\n",
    "target_corr_daysonmarket = correlation_matrix['daysonmarket'].sort_values(ascending=False)\n",
    "target_corr_price = correlation_matrix['price'].sort_values(ascending=False)\n",
    "\n",
    "print(\"Correlations with 'daysonmarket':\")\n",
    "print(target_corr_daysonmarket)\n",
    "print(\"\\nCorrelations with 'price':\")\n",
    "print(target_corr_price)\n"
   ]
  },
  {
   "cell_type": "markdown",
   "metadata": {},
   "source": [
    "#### Eivät korreloi merkittävästi kummankaan kanssa (korrelaatio < 0.05):"
   ]
  },
  {
   "cell_type": "code",
   "execution_count": 28,
   "metadata": {},
   "outputs": [
    {
     "name": "stdout",
     "output_type": "stream",
     "text": [
      "Muuttujat, jotka eivät korreloi merkittävästi kummankaan tavoitemuuttujan kanssa:\n",
      "['listing_color_encoded', 'model_name_encoded']\n"
     ]
    }
   ],
   "source": [
    "# Kynnysarvo, jonka mukaan tarkistetaan, onko korrelaatio merkittävä\n",
    "threshold = 0.05\n",
    "\n",
    "# Tavoitemuuttujat, joiden kanssa korrelaatiota tarkastellaan\n",
    "target_vars = ['daysonmarket', 'price']\n",
    "\n",
    "# Lista muuttujista, jotka eivät korreloi merkittävästi kummankaan tavoitemuuttujan kanssa\n",
    "low_correlation_features = [\n",
    "    col for col in correlation_matrix.columns  # Käy läpi kaikki korrelaatiomatriisin sarakkeet\n",
    "    if col not in target_vars  # Ohitetaan tavoitemuuttujat\n",
    "    and all(abs(correlation_matrix.loc[col, target_vars]) < threshold)  # Tarkistetaan, ettei korrelaatio ylitä kynnysarvoa kummankaan tavoitemuuttujan kanssa\n",
    "]\n",
    "\n",
    "# Tulostetaan heikon korrelaation omaavat muuttujat\n",
    "print(\"Muuttujat, jotka eivät korreloi merkittävästi kummankaan tavoitemuuttujan kanssa:\")\n",
    "print(low_correlation_features)\n"
   ]
  },
  {
   "cell_type": "markdown",
   "metadata": {},
   "source": [
    "Näiden muuttujien poistamista kannattaa miettiä vielä ennen mallinnusvaihetta."
   ]
  },
  {
   "cell_type": "markdown",
   "metadata": {},
   "source": [
    "## Uuden dataframen ja csv-tiedoston luominen mallinnusvaihetta varten"
   ]
  },
  {
   "cell_type": "code",
   "execution_count": 29,
   "metadata": {},
   "outputs": [],
   "source": [
    "# Valitaan vain numeeriset sarakkeet uuteen dataframeen\n",
    "df_ml = df_cleaned.select_dtypes(include=['number'])\n",
    "\n",
    "# Muutetaan int-muotoon sarakkeita, joissa ei tarvita desimaaleja\n",
    "columns_to_convert = ['mileage', 'horsepower', 'price', 'torque_value', 'torque_rpm', 'power_rpm', 'maximum_seating', 'owner_count']\n",
    "df_ml[columns_to_convert] = df_ml[columns_to_convert].astype(int)\n",
    "\n",
    "# Pyöristetään seller_rating 2 desimaalin tarkkuuteen\n",
    "df_ml['seller_rating'] = df_ml['seller_rating'].round(2)\n",
    "\n",
    "# Pudotetaan rivit, joissa is_new = 1 (uusi auto)\n",
    "df_ml = df_ml.drop(df_ml[df_ml['is_new'] == 1].index)\n",
    "\n",
    "# Pudotetaan is_new sarake, koska siinä on enää yhtä arvoa\n",
    "df_ml = df_ml.drop(columns=['is_new'])"
   ]
  },
  {
   "cell_type": "code",
   "execution_count": 30,
   "metadata": {},
   "outputs": [],
   "source": [
    "# Tallentaminen csv-tiedostoksi\n",
    "df_ml.to_csv('../../used_cars_data_ML.csv', index=False)"
   ]
  }
 ],
 "metadata": {
  "kernelspec": {
   "display_name": "Python 3",
   "language": "python",
   "name": "python3"
  },
  "language_info": {
   "codemirror_mode": {
    "name": "ipython",
    "version": 3
   },
   "file_extension": ".py",
   "mimetype": "text/x-python",
   "name": "python",
   "nbconvert_exporter": "python",
   "pygments_lexer": "ipython3",
   "version": "3.11.5"
  }
 },
 "nbformat": 4,
 "nbformat_minor": 4
}
