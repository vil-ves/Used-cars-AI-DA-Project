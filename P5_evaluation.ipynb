{
 "cells": [
  {
   "cell_type": "markdown",
   "id": "b9bf687c",
   "metadata": {},
   "source": [
    "# **Vaihe 5: Arviointi**\n",
    "\n",
    "## **Saavutettujen tulosten arviointi**\n",
    "Projektin tavoitteena oli analysoida käytettyjen autojen hintadataa ja kehittää ennustemalleja, jotka tukevat asiakkaan liiketoimintatavoitteita. Käytimme erilaisia koneoppimisen menetelmiä, kuten XGBoostia regressioon ja luokitteluun, ja tulokset ovat lupaavia:\n",
    "\n",
    "- **Regressiomalli (XGBoost Regressor):**\n",
    "  - **Hyperparametrien säätö:** GridSearchCV:n avulla saavutettiin huomattava parannus tuloksissa. Esimerkiksi MAE pieneni alkuperäisestä 1742:sta arvoon 1327, ja RMSE pieneni arvoon 2031.\n",
    "  - **R²-arvo:** Lopullinen malli selitti 96 % auton hintavaihteluista, mikä osoittaa mallin erittäin hyvää soveltuvuutta ennustamiseen.\n",
    "\n",
    "- **Luokittelumalli (XGBoost Classifier):**\n",
    "  - **Tarkkuus:** Malli saavutti 93,6 % tarkkuuden. \n",
    "  - **Epätasapainon käsittely:** SMOTE-tekniikka tasapainotti datasettimme onnistuneesti, mikä paransi erityisesti aliedustetun luokan (\"kallis\") tarkkuutta ja muistia.\n",
    "  - **Luokkakohtaiset tulokset:** Halpojen ja keskitasoisten autojen ennusteet olivat erinomaisia, mutta kalliin luokan tuloksia voidaan vielä parantaa.\n",
    "\n",
    "- **Regressiomalli (Random Forest Regressor):**\n",
    "  - Esikäsittelyn jälkeisellä datasetillä mallin R² arvo oli vain noin 0.5, mutta arvo nousi 0.9:ään, kun outlierit käsiteltiin. Outlierit käsiteltiin pudottamalla ensimmäinen ja viimeinen 1%.\n",
    "  - R² Score: 0.963, Mean Absolute Error (MAE): 1429.36, Mean Absolute Percentage Error (MAPE): 7.79%.\n",
    "  - Ristiin validoinnin (cross-validation) tulos oli 0.9326 ± 0.0074, joka kertoo mallin luotettavuudesta ja hyvästä toimivuudesta datasettimme kanssa.\n",
    "  - Parempien hyperparametrien etsimistä koitettiin GridSearchCV:llä, mutta tuloksetta. Alkuperäinen malli toimi paremmin.\n",
    "  - Myös ominaisuuksien vaikutus ennustamiseen testattiin. Datasta löytyi monia sarakkeita, joilla oli hyvin pieni vaikutus, mutta näiden pudottaminen heikensi mallin toimivuutta."
   ]
  },
  {
   "cell_type": "markdown",
   "id": "e378c900-aa85-48fd-bf97-82ac0da5e063",
   "metadata": {},
   "source": [
    "\n",
    "---\n",
    "## **Yksittäisten mallien analyysi**\n",
    "- **XGBoost Regressor:** Menestyi hyvin hintojen ennustamisessa. Kuitenkin malli on herkkä poikkeaville arvoille, mikä näkyy alkuperäisen datan käsittelyssä (IQR-menetelmällä poistetut poikkeamat).\n",
    "- **XGBoost Classifier:** Malli toimi tehokkaasti myös luokittelutehtävässä. SMOTE:n käyttö korosti kalliin luokan havaintojen merkitystä, mutta luokan pieni koko voi edelleen vaikuttaa tuloksiin.\n",
    "- **Random Forest Regressor:** Ennusti hintoja hyvin ilman suuria muutoksia dataan tai mallin parametreihin. Kalliiden autojen hintojen ennustamisessa on vielä parannettavaa.\n",
    "\n",
    "\n",
    "### **Tulosten visualisointi**\n",
    "\n",
    "#### XGBoost Regressor\n",
    "![XGBoost Regressor](./pics/actual_vs_predicted_prices.png)\n",
    "\n",
    "#### XGBoost Classifier\n",
    "![XGBoost Classifier](./pics/confusion_matrix.png)\n",
    "\n",
    "#### Random Forest Regressor\n",
    "![Random Forest Regressor](./pics/RF_scatter.png)\n",
    "- Ennustus onnistui pääsääntöisesti hyvin, mutta hintojen noustessa syntyy hajontaa.  \n",
    "\n",
    "![Random Forest Regressor](./pics/RF_residuals.png)\n",
    "- Jäännökset jakautuvat hyvin nollan läheisyyteen ja hajonnan jakauma on melko tasainen.  \n",
    "\n",
    "![Random Forest Regressor](./pics/RF_features.png)\n",
    "- Ominaisuuksien tärkeydessä on selkeä kolmen kärki ja paljon ominaisuuksia, joiden vaikutus on hyvin pieni.\n",
    "  - Vaikka ominaisuuksilla oli pieni vaikutus, niiden pudottaminen heikensi mallin tarkkuutta.  \n",
    "\n",
    "\n"
   ]
  },
  {
   "cell_type": "markdown",
   "id": "ed8f163e",
   "metadata": {},
   "source": [
    "\n",
    "---\n",
    "## **Prosessin tarkastelu**\n",
    "Mallinnusvaiheen läpikäynnissä kaikki vaiheet suoritettiin CRISP-DM-prosessin mukaisesti:\n",
    "1. **Business Understanding:** Ymmärsimme asiakkaan tarpeet, kuten autokohtaisen hinnoittelun optimoinnin.\n",
    "2. **Data Understanding & Preparation:** Poistimme datasta poikkeavat arvot ja käsittelimme epätasapainon onnistuneesti.\n",
    "3. **Modeling:** Kehitimme ja arvioimme malleja eri parametreilla ja valitsimme parhaat tulokset tuottavat asetukset.\n",
    "4. **Evaluation:** Kaikki mallien tulokset analysoitiin ja niiden soveltuvuus liiketoimintatavoitteisiin arvioitiin.\n",
    "\n",
    "---\n",
    "## **Seuraavat vaiheet**\n",
    "1. **Mallien kehitys:** \n",
    "   - Kalliin luokan ennustustarkkuuden parantaminen lisäämällä datapisteitä tähän luokkaan.\n",
    "2. **Optimointi:**\n",
    "   - Lisätä mallit käyttämään entistä laajempaa ominaisuuksien joukkoa, kuten maantieteellisiä sijainteja tai autojen historiallisia myyntitrendejä.\n",
    "3. **Mallien käyttöönotto:** Regressiomalli on valmis tuotantoon, ja luokittelumalli tarvitsee vielä hienosäätöä."
   ]
  }
 ],
 "metadata": {
  "kernelspec": {
   "display_name": "Python 3 (ipykernel)",
   "language": "python",
   "name": "python3"
  },
  "language_info": {
   "codemirror_mode": {
    "name": "ipython",
    "version": 3
   },
   "file_extension": ".py",
   "mimetype": "text/x-python",
   "name": "python",
   "nbconvert_exporter": "python",
   "pygments_lexer": "ipython3",
   "version": "3.12.4"
  }
 },
 "nbformat": 4,
 "nbformat_minor": 5
}
